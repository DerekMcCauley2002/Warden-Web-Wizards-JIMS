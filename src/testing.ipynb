{
 "cells": [
  {
   "cell_type": "code",
   "execution_count": 1,
   "metadata": {},
   "outputs": [
    {
     "name": "stdout",
     "output_type": "stream",
     "text": [
      "Connected to database\n",
      "{'user': 'webwardens', 'channel_binding': 'prefer', 'dbname': 'testing', 'host': 'jims.postgres.database.azure.com', 'port': '5432', 'options': '', 'sslmode': 'prefer', 'sslcompression': '0', 'sslsni': '1', 'ssl_min_protocol_version': 'TLSv1.2', 'gssencmode': 'disable', 'krbsrvname': 'postgres', 'target_session_attrs': 'any'} \n",
      "\n"
     ]
    }
   ],
   "source": [
    "import psycopg2\n",
    "from abc import ABC, abstractclassmethod\n",
    "\n",
    "# Intialize database\n",
    "hostname = 'jims.postgres.database.azure.com'\n",
    "port_id = 5432\n",
    "username = 'webwardens'\n",
    "pwd = 'TakBXzeiVL2Ym8K'\n",
    "database = 'testing'\n",
    "\n",
    "# Try to connect to the database\n",
    "try:\n",
    "    # Intialize a connect to the databse\n",
    "    conn = psycopg2.connect(\n",
    "        host = hostname,\n",
    "        dbname = database,\n",
    "        user = username,\n",
    "        password = pwd,\n",
    "        port = port_id\n",
    "    )\n",
    "\n",
    "    #Intialize a cursor\n",
    "    cursor = conn.cursor()\n",
    "\n",
    "    # Print connection success and extra database paramters\n",
    "    print(\"Connected to database\")\n",
    "    print(conn.get_dsn_parameters(), \"\\n\")\n",
    "    \n",
    "\n",
    "\n",
    "# Catch any exceptions and print them\n",
    "except Exception as error:\n",
    "    print(error)"
   ]
  },
  {
   "cell_type": "code",
   "execution_count": 2,
   "metadata": {},
   "outputs": [],
   "source": [
    "class Transaction():\n",
    "    \"\"\"\n",
    "    Transaction class that allows the creation of transaction objects\n",
    "\n",
    "    Attributes:\n",
    "        transaction_id\n",
    "    \"\"\"\n",
    "    trancastion_id = 0\n",
    "    list_of_transactions =[]\n",
    "\n",
    "    def __init__(self, account_id, ending_balance):\n",
    "        \"\"\" Create a transactions object that has a account id, ending balance and transaction id \"\"\"\n",
    "        self.account_id = account_id\n",
    "        self.ending_balance = ending_balance\n",
    "        self.trancastion_id = Transaction.trancastion_id\n",
    "\n",
    "        # Add this trasnsaction to the list of transactions\n",
    "        Transaction.list_of_transactions.append(self)\n",
    "\n",
    "        # Increment the transaction id since we made a transaction\n",
    "        Transaction.increment_counter()\n",
    "\n",
    "    @staticmethod\n",
    "    def increment_counter():\n",
    "        \"\"\" This function increments the transaction ID \"\"\"\n",
    "        Transaction.trancastion_id += 1\n",
    "\n",
    "    def __repr__(self):\n",
    "        \"\"\" This function for represenation / return of objects using strings\"\"\"\n",
    "        return f\"Transaction('{self.trancastion_id}',{self.account_id}) \"\n",
    "    \n",
    "    @staticmethod\n",
    "    def getTransID(self):\n",
    "        return self.trancastion_id\n",
    "\n",
    "class TrustAccount():\n",
    "    def __init__(self, account_id, cash_balance):\n",
    "        \"\"\" Create a trust account object that has a account id and a cash balance\"\"\"\n",
    "        self.account_id = account_id\n",
    "        self.cash_balance =  cash_balance\n",
    "\n",
    "    def withdraw_money(self, amount):\n",
    "        \"\"\" This function withdraws monet from an account\"\"\"\n",
    "        self.cash_balance = self.cash_balance - amount\n",
    "        Transaction(self.account_id, self.cash_balance)\n",
    "\n",
    "    def deposit_money(self, amount):\n",
    "        \"\"\" This function deposits money inot the account\"\"\"\n",
    "        self.cash_balance = self.cash_balance + amount\n",
    "        Transaction(self.account_id, self.cash_balance)\n",
    "\n",
    "    def insert_trust_account_into_db(self, conn, transID):\n",
    "        \"\"\" This function inserts the trust account into the database\"\"\"\n",
    "        cursor.execute(\"INSERT INTO trustaccount (id, cashBalance) VALUES (%s, %s)\", (self.account_id, self.cash_balance))\n",
    "        conn.commit()\n",
    "        cursor.execute(\"INSERT INTO transactiontracking (id, transactionID) VALUES (%s, %s)\", (2, transID))\n",
    "        conn.commit()\n",
    "        cursor.close()\n",
    "\n"
   ]
  },
  {
   "cell_type": "code",
   "execution_count": 3,
   "metadata": {},
   "outputs": [
    {
     "ename": "ProgrammingError",
     "evalue": "can't adapt type 'function'",
     "output_type": "error",
     "traceback": [
      "\u001b[1;31m---------------------------------------------------------------------------\u001b[0m",
      "\u001b[1;31mProgrammingError\u001b[0m                          Traceback (most recent call last)",
      "Cell \u001b[1;32mIn[3], line 11\u001b[0m\n\u001b[0;32m      8\u001b[0m trustAccount1\u001b[39m.\u001b[39mwithdraw_money(\u001b[39m100\u001b[39m)\n\u001b[0;32m     10\u001b[0m \u001b[39m# Add the trust account into the database\u001b[39;00m\n\u001b[1;32m---> 11\u001b[0m trustAccount1\u001b[39m.\u001b[39;49minsert_trust_account_into_db(conn, Transaction\u001b[39m.\u001b[39;49mgetTransID)\n\u001b[0;32m     13\u001b[0m \u001b[39m# Print the trust account balance\u001b[39;00m\n\u001b[0;32m     14\u001b[0m \u001b[39mprint\u001b[39m(trustAccount1\u001b[39m.\u001b[39mcash_balance)\n",
      "Cell \u001b[1;32mIn[2], line 56\u001b[0m, in \u001b[0;36mTrustAccount.insert_trust_account_into_db\u001b[1;34m(self, conn, transID)\u001b[0m\n\u001b[0;32m     54\u001b[0m cursor\u001b[39m.\u001b[39mexecute(\u001b[39m\"\u001b[39m\u001b[39mINSERT INTO trustaccount (id, cashBalance) VALUES (\u001b[39m\u001b[39m%s\u001b[39;00m\u001b[39m, \u001b[39m\u001b[39m%s\u001b[39;00m\u001b[39m)\u001b[39m\u001b[39m\"\u001b[39m, (\u001b[39mself\u001b[39m\u001b[39m.\u001b[39maccount_id, \u001b[39mself\u001b[39m\u001b[39m.\u001b[39mcash_balance))\n\u001b[0;32m     55\u001b[0m conn\u001b[39m.\u001b[39mcommit()\n\u001b[1;32m---> 56\u001b[0m cursor\u001b[39m.\u001b[39;49mexecute(\u001b[39m\"\u001b[39;49m\u001b[39mINSERT INTO transactiontracking (id, transactionID) VALUES (\u001b[39;49m\u001b[39m%s\u001b[39;49;00m\u001b[39m, \u001b[39;49m\u001b[39m%s\u001b[39;49;00m\u001b[39m)\u001b[39;49m\u001b[39m\"\u001b[39;49m, (\u001b[39m2\u001b[39;49m, transID))\n\u001b[0;32m     57\u001b[0m conn\u001b[39m.\u001b[39mcommit()\n\u001b[0;32m     58\u001b[0m cursor\u001b[39m.\u001b[39mclose()\n",
      "\u001b[1;31mProgrammingError\u001b[0m: can't adapt type 'function'"
     ]
    }
   ],
   "source": [
    "# Create a trust account\n",
    "trustAccount1 = TrustAccount(10, 0)\n",
    "\n",
    "# Deposit some money\n",
    "trustAccount1.deposit_money(200)\n",
    "\n",
    "# Deposit some more money\n",
    "trustAccount1.withdraw_money(100)\n",
    "\n",
    "# Add the trust account into the database\n",
    "trustAccount1.insert_trust_account_into_db(conn, Transaction.getTransID)\n",
    "\n",
    "# Print the trust account balance\n",
    "print(trustAccount1.cash_balance)\n",
    "\n",
    "# Print the total list of transaction\n",
    "print(Transaction.list_of_transactions)\n",
    "\n"
   ]
  },
  {
   "cell_type": "code",
   "execution_count": null,
   "metadata": {},
   "outputs": [],
   "source": [
    "# Close the cursor and connections is not closed already\n",
    "if cursor is not None:\n",
    "      cursor.close()\n",
    "if conn is not None:\n",
    "       conn.close()"
   ]
  }
 ],
 "metadata": {
  "kernelspec": {
   "display_name": "Python 3",
   "language": "python",
   "name": "python3"
  },
  "language_info": {
   "codemirror_mode": {
    "name": "ipython",
    "version": 3
   },
   "file_extension": ".py",
   "mimetype": "text/x-python",
   "name": "python",
   "nbconvert_exporter": "python",
   "pygments_lexer": "ipython3",
   "version": "3.10.10"
  },
  "orig_nbformat": 4,
  "vscode": {
   "interpreter": {
    "hash": "413a289a4703cf06b5a0c26782818e6cb6295df496469014c5685808e0acf7a8"
   }
  }
 },
 "nbformat": 4,
 "nbformat_minor": 2
}
