{
 "cells": [
  {
   "cell_type": "code",
   "execution_count": 49,
   "metadata": {},
   "outputs": [
    {
     "name": "stdout",
     "output_type": "stream",
     "text": [
      "Connected to database\n",
      "{'user': 'webwardens', 'dbname': 'testing', 'host': 'jims.postgres.database.azure.com', 'port': '5432', 'tty': '', 'options': '', 'sslmode': 'prefer', 'sslcompression': '0', 'gssencmode': 'prefer', 'krbsrvname': 'postgres', 'target_session_attrs': 'any'} \n",
      "\n"
     ]
    }
   ],
   "source": [
    "import psycopg2\n",
    "from abc import ABC, abstractclassmethod\n",
    "\n",
    "# Intialize database\n",
    "hostname = 'jims.postgres.database.azure.com'\n",
    "port_id = 5432\n",
    "username = 'webwardens'\n",
    "pwd = 'TakBXzeiVL2Ym8K'\n",
    "database = 'testing'\n",
    "\n",
    "# Try to connect to the database\n",
    "try:\n",
    "    # Intialize a connect to the databse\n",
    "    conn = psycopg2.connect(\n",
    "        host = hostname,\n",
    "        dbname = database,\n",
    "        user = username,\n",
    "        password = pwd,\n",
    "        port = port_id\n",
    "    )\n",
    "\n",
    "    #Intialize a cursor\n",
    "    cursor = conn.cursor()\n",
    "\n",
    "    # Print connection success and extra database paramters\n",
    "    print(\"Connected to database\")\n",
    "    print(conn.get_dsn_parameters(), \"\\n\")\n",
    "    \n",
    "\n",
    "\n",
    "# Catch any exceptions and print them\n",
    "except Exception as error:\n",
    "    print(error)"
   ]
  },
  {
   "cell_type": "code",
   "execution_count": 50,
   "metadata": {},
   "outputs": [],
   "source": [
    "class Transaction():\n",
    "    \"\"\"\n",
    "    Transaction class that allows the creation of transaction objects\n",
    "\n",
    "    Attributes:\n",
    "       \n",
    "    \"\"\"\n",
    "    endCashValue = 0\n",
    "    list_of_transactions =[]\n",
    "\n",
    "    def __init__(self, endCashValue):\n",
    "        # Add this trasnsaction to the list of transactions\n",
    "        self.endCashValue = endCashValue\n",
    "        Transaction.list_of_transactions.append(self)\n",
    "\n",
    "    def __repr__(self):\n",
    "        \"\"\" This function for represenation / return of objects using strings\"\"\"\n",
    "        return f\"Transaction({self.endCashValue}) \"\n",
    "\n",
    "class TrustAccount():\n",
    "    def __init__(self, cashFromStart):\n",
    "        \"\"\" Create a trust account object that has a account id and a cash balance\"\"\"\n",
    "        self.cashBal = cashFromStart\n",
    "\n",
    "    def withdraw_money(self, amount):\n",
    "        \"\"\" This function withdraws monet from an account\"\"\"\n",
    "        self.cashBal = self.cashBal - amount\n",
    "        Transaction(self.cashBal)\n",
    "\n",
    "    def deposit_money(self, amount):\n",
    "        \"\"\" This function deposits money inot the account\"\"\"\n",
    "        self.cashBal = self.cashBal + amount\n",
    "        Transaction(self.cashBal)\n",
    "\n",
    "    def get_next_account_ID(self):\n",
    "        try:\n",
    "            cursor.execute(\"SELECT * FROM testtable ORDER BY id DESC LIMIT 1\")\n",
    "            nextID = cursor.fetchone()[0]\n",
    "        except:\n",
    "            return 0\n",
    "        return int(nextID)\n",
    "\n",
    "    def insert_trust_account_into_db(self, conn):\n",
    "        \"\"\" This function inserts the trust account into the database\"\"\"\n",
    "        cursor.execute(\"INSERT INTO testtable (id, cash) VALUES (%s, %s)\", ([self.get_next_account_ID() + 1, self.cashBal]))\n",
    "        conn.commit()\n",
    "        cursor.close()\n",
    "\n"
   ]
  },
  {
   "cell_type": "code",
   "execution_count": 51,
   "metadata": {},
   "outputs": [
    {
     "name": "stdout",
     "output_type": "stream",
     "text": [
      "450\n",
      "[Transaction(550) , Transaction(450) ]\n"
     ]
    }
   ],
   "source": [
    "# Create a trust account\n",
    "trustAccount1 = TrustAccount(350)\n",
    "\n",
    "# Deposit some money\n",
    "trustAccount1.deposit_money(200)\n",
    "\n",
    "# Deposit some more money\n",
    "trustAccount1.withdraw_money(100)\n",
    "\n",
    "# Add the trust account into the database\n",
    "trustAccount1.insert_trust_account_into_db(conn)\n",
    "\n",
    "# Print the trust account balance\n",
    "print(trustAccount1.cashBal)\n",
    "\n",
    "# Print the total list of transaction\n",
    "print(Transaction.list_of_transactions)\n",
    "\n"
   ]
  },
  {
   "cell_type": "code",
   "execution_count": 52,
   "metadata": {},
   "outputs": [],
   "source": [
    "# Close the cursor and connections is not closed already\n",
    "if cursor is not None:\n",
    "      cursor.close()\n",
    "if conn is not None:\n",
    "       conn.close()"
   ]
  }
 ],
 "metadata": {
  "kernelspec": {
   "display_name": "Python 3",
   "language": "python",
   "name": "python3"
  },
  "language_info": {
   "codemirror_mode": {
    "name": "ipython",
    "version": 3
   },
   "file_extension": ".py",
   "mimetype": "text/x-python",
   "name": "python",
   "nbconvert_exporter": "python",
   "pygments_lexer": "ipython3",
   "version": "3.8.10"
  },
  "orig_nbformat": 4,
  "vscode": {
   "interpreter": {
    "hash": "413a289a4703cf06b5a0c26782818e6cb6295df496469014c5685808e0acf7a8"
   }
  }
 },
 "nbformat": 4,
 "nbformat_minor": 2
}
